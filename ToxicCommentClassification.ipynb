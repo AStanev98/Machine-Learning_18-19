{
 "cells": [
  {
   "cell_type": "markdown",
   "metadata": {},
   "source": [
    "## Описание на проекта"
   ]
  },
  {
   "cell_type": "markdown",
   "metadata": {},
   "source": [
    "Идеята на проекта ми е да направя модел, който е способен да класифицира различни типове токсичност на коментари от социални медии в интернет.\n",
    "\n",
    "Коментарите са класифицирани в следните 6 категории:\n",
    "-  toxic\n",
    "-  severe_toxic\n",
    "-  obscene\n",
    "-  threat\n",
    "-  insult\n",
    "-  identity_hate\n",
    "\n",
    "Dataset: https://www.kaggle.com/c/jigsaw-toxic-comment-classification-challenge\n"
   ]
  },
  {
   "cell_type": "code",
   "execution_count": 2,
   "metadata": {},
   "outputs": [
    {
     "name": "stderr",
     "output_type": "stream",
     "text": [
      "c:\\users\\aleksandar stanev\\appdata\\local\\programs\\python\\python37-32\\lib\\site-packages\\matplotlib\\__init__.py:886: MatplotlibDeprecationWarning: \n",
      "examples.directory is deprecated; in the future, examples will be found relative to the 'datapath' directory.\n",
      "  \"found relative to the 'datapath' directory.\".format(key))\n"
     ]
    }
   ],
   "source": [
    "import numpy as np\n",
    "import pandas as pd\n",
    "import matplotlib.pyplot as plt\n",
    "import seaborn as sns"
   ]
  },
  {
   "cell_type": "code",
   "execution_count": 3,
   "metadata": {},
   "outputs": [],
   "source": [
    "train = pd.read_csv('../input/train.csv')\n",
    "test = pd.read_csv('../input/test.csv')"
   ]
  },
  {
   "cell_type": "code",
   "execution_count": 4,
   "metadata": {},
   "outputs": [
    {
     "name": "stdout",
     "output_type": "stream",
     "text": [
      "(159571, 8)\n",
      "(153164, 2)\n"
     ]
    }
   ],
   "source": [
    "print(train.shape)\n",
    "print(test.shape)"
   ]
  },
  {
   "cell_type": "markdown",
   "metadata": {},
   "source": [
    "Train data-та съдържа по ред за всеки коментар, съответно с id, текст и 6 категории, които ще предсказваме."
   ]
  },
  {
   "cell_type": "code",
   "execution_count": 5,
   "metadata": {},
   "outputs": [
    {
     "data": {
      "text/html": [
       "<div>\n",
       "<style scoped>\n",
       "    .dataframe tbody tr th:only-of-type {\n",
       "        vertical-align: middle;\n",
       "    }\n",
       "\n",
       "    .dataframe tbody tr th {\n",
       "        vertical-align: top;\n",
       "    }\n",
       "\n",
       "    .dataframe thead th {\n",
       "        text-align: right;\n",
       "    }\n",
       "</style>\n",
       "<table border=\"1\" class=\"dataframe\">\n",
       "  <thead>\n",
       "    <tr style=\"text-align: right;\">\n",
       "      <th></th>\n",
       "      <th>id</th>\n",
       "      <th>comment_text</th>\n",
       "      <th>toxic</th>\n",
       "      <th>severe_toxic</th>\n",
       "      <th>obscene</th>\n",
       "      <th>threat</th>\n",
       "      <th>insult</th>\n",
       "      <th>identity_hate</th>\n",
       "    </tr>\n",
       "  </thead>\n",
       "  <tbody>\n",
       "    <tr>\n",
       "      <th>0</th>\n",
       "      <td>0000997932d777bf</td>\n",
       "      <td>Explanation\\nWhy the edits made under my usern...</td>\n",
       "      <td>0</td>\n",
       "      <td>0</td>\n",
       "      <td>0</td>\n",
       "      <td>0</td>\n",
       "      <td>0</td>\n",
       "      <td>0</td>\n",
       "    </tr>\n",
       "    <tr>\n",
       "      <th>1</th>\n",
       "      <td>000103f0d9cfb60f</td>\n",
       "      <td>D'aww! He matches this background colour I'm s...</td>\n",
       "      <td>0</td>\n",
       "      <td>0</td>\n",
       "      <td>0</td>\n",
       "      <td>0</td>\n",
       "      <td>0</td>\n",
       "      <td>0</td>\n",
       "    </tr>\n",
       "    <tr>\n",
       "      <th>2</th>\n",
       "      <td>000113f07ec002fd</td>\n",
       "      <td>Hey man, I'm really not trying to edit war. It...</td>\n",
       "      <td>0</td>\n",
       "      <td>0</td>\n",
       "      <td>0</td>\n",
       "      <td>0</td>\n",
       "      <td>0</td>\n",
       "      <td>0</td>\n",
       "    </tr>\n",
       "    <tr>\n",
       "      <th>3</th>\n",
       "      <td>0001b41b1c6bb37e</td>\n",
       "      <td>\"\\nMore\\nI can't make any real suggestions on ...</td>\n",
       "      <td>0</td>\n",
       "      <td>0</td>\n",
       "      <td>0</td>\n",
       "      <td>0</td>\n",
       "      <td>0</td>\n",
       "      <td>0</td>\n",
       "    </tr>\n",
       "    <tr>\n",
       "      <th>4</th>\n",
       "      <td>0001d958c54c6e35</td>\n",
       "      <td>You, sir, are my hero. Any chance you remember...</td>\n",
       "      <td>0</td>\n",
       "      <td>0</td>\n",
       "      <td>0</td>\n",
       "      <td>0</td>\n",
       "      <td>0</td>\n",
       "      <td>0</td>\n",
       "    </tr>\n",
       "    <tr>\n",
       "      <th>5</th>\n",
       "      <td>00025465d4725e87</td>\n",
       "      <td>\"\\n\\nCongratulations from me as well, use the ...</td>\n",
       "      <td>0</td>\n",
       "      <td>0</td>\n",
       "      <td>0</td>\n",
       "      <td>0</td>\n",
       "      <td>0</td>\n",
       "      <td>0</td>\n",
       "    </tr>\n",
       "    <tr>\n",
       "      <th>6</th>\n",
       "      <td>0002bcb3da6cb337</td>\n",
       "      <td>COCKSUCKER BEFORE YOU PISS AROUND ON MY WORK</td>\n",
       "      <td>1</td>\n",
       "      <td>1</td>\n",
       "      <td>1</td>\n",
       "      <td>0</td>\n",
       "      <td>1</td>\n",
       "      <td>0</td>\n",
       "    </tr>\n",
       "    <tr>\n",
       "      <th>7</th>\n",
       "      <td>00031b1e95af7921</td>\n",
       "      <td>Your vandalism to the Matt Shirvington article...</td>\n",
       "      <td>0</td>\n",
       "      <td>0</td>\n",
       "      <td>0</td>\n",
       "      <td>0</td>\n",
       "      <td>0</td>\n",
       "      <td>0</td>\n",
       "    </tr>\n",
       "    <tr>\n",
       "      <th>8</th>\n",
       "      <td>00037261f536c51d</td>\n",
       "      <td>Sorry if the word 'nonsense' was offensive to ...</td>\n",
       "      <td>0</td>\n",
       "      <td>0</td>\n",
       "      <td>0</td>\n",
       "      <td>0</td>\n",
       "      <td>0</td>\n",
       "      <td>0</td>\n",
       "    </tr>\n",
       "    <tr>\n",
       "      <th>9</th>\n",
       "      <td>00040093b2687caa</td>\n",
       "      <td>alignment on this subject and which are contra...</td>\n",
       "      <td>0</td>\n",
       "      <td>0</td>\n",
       "      <td>0</td>\n",
       "      <td>0</td>\n",
       "      <td>0</td>\n",
       "      <td>0</td>\n",
       "    </tr>\n",
       "  </tbody>\n",
       "</table>\n",
       "</div>"
      ],
      "text/plain": [
       "                 id                                       comment_text  toxic  \\\n",
       "0  0000997932d777bf  Explanation\\nWhy the edits made under my usern...      0   \n",
       "1  000103f0d9cfb60f  D'aww! He matches this background colour I'm s...      0   \n",
       "2  000113f07ec002fd  Hey man, I'm really not trying to edit war. It...      0   \n",
       "3  0001b41b1c6bb37e  \"\\nMore\\nI can't make any real suggestions on ...      0   \n",
       "4  0001d958c54c6e35  You, sir, are my hero. Any chance you remember...      0   \n",
       "5  00025465d4725e87  \"\\n\\nCongratulations from me as well, use the ...      0   \n",
       "6  0002bcb3da6cb337       COCKSUCKER BEFORE YOU PISS AROUND ON MY WORK      1   \n",
       "7  00031b1e95af7921  Your vandalism to the Matt Shirvington article...      0   \n",
       "8  00037261f536c51d  Sorry if the word 'nonsense' was offensive to ...      0   \n",
       "9  00040093b2687caa  alignment on this subject and which are contra...      0   \n",
       "\n",
       "   severe_toxic  obscene  threat  insult  identity_hate  \n",
       "0             0        0       0       0              0  \n",
       "1             0        0       0       0              0  \n",
       "2             0        0       0       0              0  \n",
       "3             0        0       0       0              0  \n",
       "4             0        0       0       0              0  \n",
       "5             0        0       0       0              0  \n",
       "6             1        1       0       1              0  \n",
       "7             0        0       0       0              0  \n",
       "8             0        0       0       0              0  \n",
       "9             0        0       0       0              0  "
      ]
     },
     "execution_count": 5,
     "metadata": {},
     "output_type": "execute_result"
    }
   ],
   "source": [
    "train.head(10)"
   ]
  },
  {
   "cell_type": "markdown",
   "metadata": {},
   "source": [
    "Както се вижда, някои коментари могат да бъдат класифицирани в повече от една категория. Нека разгледаме няколко коментара."
   ]
  },
  {
   "cell_type": "code",
   "execution_count": 6,
   "metadata": {},
   "outputs": [
    {
     "data": {
      "text/plain": [
       "\"Explanation\\nWhy the edits made under my username Hardcore Metallica Fan were reverted? They weren't vandalisms, just closure on some GAs after I voted at New York Dolls FAC. And please don't remove the template from the talk page since I'm retired now.89.205.38.27\""
      ]
     },
     "execution_count": 6,
     "metadata": {},
     "output_type": "execute_result"
    }
   ],
   "source": [
    "train['comment_text'][0] "
   ]
  },
  {
   "cell_type": "code",
   "execution_count": 7,
   "metadata": {},
   "outputs": [
    {
     "data": {
      "text/plain": [
       "'COCKSUCKER BEFORE YOU PISS AROUND ON MY WORK'"
      ]
     },
     "execution_count": 7,
     "metadata": {},
     "output_type": "execute_result"
    }
   ],
   "source": [
    "train['comment_text'][6]"
   ]
  },
  {
   "cell_type": "markdown",
   "metadata": {},
   "source": [
    "Вижда се, че дължината на коментарите варира доста."
   ]
  },
  {
   "cell_type": "code",
   "execution_count": 8,
   "metadata": {},
   "outputs": [
    {
     "data": {
      "text/plain": [
       "(394.0732213246768, 590.7202819048919, 5000)"
      ]
     },
     "execution_count": 8,
     "metadata": {},
     "output_type": "execute_result"
    }
   ],
   "source": [
    "lens = train.comment_text.str.len()\n",
    "lens.mean(), lens.std(), lens.max()"
   ]
  },
  {
   "cell_type": "code",
   "execution_count": 9,
   "metadata": {},
   "outputs": [
    {
     "data": {
      "image/png": "[encoded data removed]",
      "text/plain": [
       "<Figure size 432x288 with 1 Axes>"
      ]
     },
     "metadata": {
      "needs_background": "light"
     },
     "output_type": "display_data"
    }
   ],
   "source": [
    "lens.hist();"
   ]
  },
  {
   "cell_type": "markdown",
   "metadata": {},
   "source": [
    "Да проверим дали има липсващи стойности."
   ]
  },
  {
   "cell_type": "code",
   "execution_count": 10,
   "metadata": {},
   "outputs": [
    {
     "name": "stdout",
     "output_type": "stream",
     "text": [
      "Missing values in Train dataset\n",
      "id               0\n",
      "comment_text     0\n",
      "toxic            0\n",
      "severe_toxic     0\n",
      "obscene          0\n",
      "threat           0\n",
      "insult           0\n",
      "identity_hate    0\n",
      "dtype: int64\n",
      "Missing values in Test dataset\n",
      "id              0\n",
      "comment_text    0\n",
      "dtype: int64\n"
     ]
    }
   ],
   "source": [
    "print(\"Missing values in Train dataset\")\n",
    "null_check = train.isnull().sum()\n",
    "print(null_check)\n",
    "print(\"Missing values in Test dataset\")\n",
    "null_check = test.isnull().sum()\n",
    "print(null_check)"
   ]
  },
  {
   "cell_type": "code",
   "execution_count": 11,
   "metadata": {},
   "outputs": [
    {
     "name": "stdout",
     "output_type": "stream",
     "text": [
      "Empty comments in Train dataset\n",
      "0\n",
      "Empty comments in Test dataset\n",
      "0\n"
     ]
    }
   ],
   "source": [
    "print(\"Empty comments in Train dataset\")\n",
    "empty_comments = train[train['comment_text'] == \"\"]\n",
    "print(len(empty_comments))\n",
    "print(\"Empty comments in Test dataset\")\n",
    "empty_comments = test[test['comment_text'] == \"\"]\n",
    "print(len(empty_comments))"
   ]
  },
  {
   "cell_type": "markdown",
   "metadata": {},
   "source": [
    "Всичко изглежда наред. Ще направим лист с всички колони, които ще predict-ваме и ще добавим колона за това дали даден коментар е чист(не е от никоя категория) за визуализация."
   ]
  },
  {
   "cell_type": "code",
   "execution_count": 12,
   "metadata": {},
   "outputs": [
    {
     "name": "stdout",
     "output_type": "stream",
     "text": [
      "Number of clean comments in Train detaset\n",
      "143346\n"
     ]
    }
   ],
   "source": [
    "label_cols = ['toxic', 'severe_toxic', 'obscene', 'threat', 'insult', 'identity_hate']\n",
    "train['clean'] = 1 - train[label_cols].max(axis = 1)\n",
    "print(\"Number of clean comments in Train detaset\")\n",
    "print(train['clean'].sum())"
   ]
  },
  {
   "cell_type": "markdown",
   "metadata": {},
   "source": [
    "Нека видим как са разпределени категориите в train dataset-а. "
   ]
  },
  {
   "cell_type": "code",
   "execution_count": 13,
   "metadata": {},
   "outputs": [
    {
     "data": {
      "text/html": [
       "<div>\n",
       "<style scoped>\n",
       "    .dataframe tbody tr th:only-of-type {\n",
       "        vertical-align: middle;\n",
       "    }\n",
       "\n",
       "    .dataframe tbody tr th {\n",
       "        vertical-align: top;\n",
       "    }\n",
       "\n",
       "    .dataframe thead th {\n",
       "        text-align: right;\n",
       "    }\n",
       "</style>\n",
       "<table border=\"1\" class=\"dataframe\">\n",
       "  <thead>\n",
       "    <tr style=\"text-align: right;\">\n",
       "      <th></th>\n",
       "      <th>toxic</th>\n",
       "      <th>severe_toxic</th>\n",
       "      <th>obscene</th>\n",
       "      <th>threat</th>\n",
       "      <th>insult</th>\n",
       "      <th>identity_hate</th>\n",
       "      <th>clean</th>\n",
       "    </tr>\n",
       "  </thead>\n",
       "  <tbody>\n",
       "    <tr>\n",
       "      <th>count</th>\n",
       "      <td>159571.000000</td>\n",
       "      <td>159571.000000</td>\n",
       "      <td>159571.000000</td>\n",
       "      <td>159571.000000</td>\n",
       "      <td>159571.000000</td>\n",
       "      <td>159571.000000</td>\n",
       "      <td>159571.000000</td>\n",
       "    </tr>\n",
       "    <tr>\n",
       "      <th>mean</th>\n",
       "      <td>0.095844</td>\n",
       "      <td>0.009996</td>\n",
       "      <td>0.052948</td>\n",
       "      <td>0.002996</td>\n",
       "      <td>0.049364</td>\n",
       "      <td>0.008805</td>\n",
       "      <td>0.898321</td>\n",
       "    </tr>\n",
       "    <tr>\n",
       "      <th>std</th>\n",
       "      <td>0.294379</td>\n",
       "      <td>0.099477</td>\n",
       "      <td>0.223931</td>\n",
       "      <td>0.054650</td>\n",
       "      <td>0.216627</td>\n",
       "      <td>0.093420</td>\n",
       "      <td>0.302226</td>\n",
       "    </tr>\n",
       "    <tr>\n",
       "      <th>min</th>\n",
       "      <td>0.000000</td>\n",
       "      <td>0.000000</td>\n",
       "      <td>0.000000</td>\n",
       "      <td>0.000000</td>\n",
       "      <td>0.000000</td>\n",
       "      <td>0.000000</td>\n",
       "      <td>0.000000</td>\n",
       "    </tr>\n",
       "    <tr>\n",
       "      <th>25%</th>\n",
       "      <td>0.000000</td>\n",
       "      <td>0.000000</td>\n",
       "      <td>0.000000</td>\n",
       "      <td>0.000000</td>\n",
       "      <td>0.000000</td>\n",
       "      <td>0.000000</td>\n",
       "      <td>1.000000</td>\n",
       "    </tr>\n",
       "    <tr>\n",
       "      <th>50%</th>\n",
       "      <td>0.000000</td>\n",
       "      <td>0.000000</td>\n",
       "      <td>0.000000</td>\n",
       "      <td>0.000000</td>\n",
       "      <td>0.000000</td>\n",
       "      <td>0.000000</td>\n",
       "      <td>1.000000</td>\n",
       "    </tr>\n",
       "    <tr>\n",
       "      <th>75%</th>\n",
       "      <td>0.000000</td>\n",
       "      <td>0.000000</td>\n",
       "      <td>0.000000</td>\n",
       "      <td>0.000000</td>\n",
       "      <td>0.000000</td>\n",
       "      <td>0.000000</td>\n",
       "      <td>1.000000</td>\n",
       "    </tr>\n",
       "    <tr>\n",
       "      <th>max</th>\n",
       "      <td>1.000000</td>\n",
       "      <td>1.000000</td>\n",
       "      <td>1.000000</td>\n",
       "      <td>1.000000</td>\n",
       "      <td>1.000000</td>\n",
       "      <td>1.000000</td>\n",
       "      <td>1.000000</td>\n",
       "    </tr>\n",
       "  </tbody>\n",
       "</table>\n",
       "</div>"
      ],
      "text/plain": [
       "               toxic   severe_toxic        obscene         threat  \\\n",
       "count  159571.000000  159571.000000  159571.000000  159571.000000   \n",
       "mean        0.095844       0.009996       0.052948       0.002996   \n",
       "std         0.294379       0.099477       0.223931       0.054650   \n",
       "min         0.000000       0.000000       0.000000       0.000000   \n",
       "25%         0.000000       0.000000       0.000000       0.000000   \n",
       "50%         0.000000       0.000000       0.000000       0.000000   \n",
       "75%         0.000000       0.000000       0.000000       0.000000   \n",
       "max         1.000000       1.000000       1.000000       1.000000   \n",
       "\n",
       "              insult  identity_hate          clean  \n",
       "count  159571.000000  159571.000000  159571.000000  \n",
       "mean        0.049364       0.008805       0.898321  \n",
       "std         0.216627       0.093420       0.302226  \n",
       "min         0.000000       0.000000       0.000000  \n",
       "25%         0.000000       0.000000       1.000000  \n",
       "50%         0.000000       0.000000       1.000000  \n",
       "75%         0.000000       0.000000       1.000000  \n",
       "max         1.000000       1.000000       1.000000  "
      ]
     },
     "execution_count": 13,
     "metadata": {},
     "output_type": "execute_result"
    }
   ],
   "source": [
    "train.describe()"
   ]
  },
  {
   "cell_type": "code",
   "execution_count": 14,
   "metadata": {},
   "outputs": [
    {
     "data": {
      "image/png": "[encoded data removed]",
      "text/plain": [
       "<Figure size 576x288 with 1 Axes>"
      ]
     },
     "metadata": {
      "needs_background": "light"
     },
     "output_type": "display_data"
    }
   ],
   "source": [
    "x = train.iloc[:,2:].sum()\n",
    "\n",
    "plt.figure(figsize=(8,4))\n",
    "ax = sns.barplot(x.index, x.values, alpha=0.8)\n",
    "plt.title(\"# per class\")\n",
    "plt.ylabel('# of Occurrences', fontsize=12)\n",
    "plt.xlabel('Type ', fontsize=12)\n",
    "\n",
    "rects = ax.patches\n",
    "labels = x.values\n",
    "for rect, label in zip(rects, labels):\n",
    "    height = rect.get_height()\n",
    "    ax.text(rect.get_x() + rect.get_width()/2, height + 5, label, ha='center', va='bottom')\n",
    "\n",
    "plt.show()"
   ]
  },
  {
   "cell_type": "markdown",
   "metadata": {},
   "source": [
    "Видяхме, че някои коментари са класифицирани в повече от една категория. Да видим и колко коментара имат по няколко тага."
   ]
  },
  {
   "cell_type": "code",
   "execution_count": 15,
   "metadata": {},
   "outputs": [
    {
     "data": {
      "image/png": "[encoded data removed]",
      "text/plain": [
       "<Figure size 576x288 with 1 Axes>"
      ]
     },
     "metadata": {
      "needs_background": "light"
     },
     "output_type": "display_data"
    }
   ],
   "source": [
    "rowsums = train.iloc[:,2:].sum(axis=1)\n",
    "x = rowsums.value_counts()\n",
    "\n",
    "#plot\n",
    "plt.figure(figsize=(8,4))\n",
    "ax = sns.barplot(x.index, x.values, alpha=0.8)\n",
    "plt.title(\"Multiple tags per comment\")\n",
    "plt.ylabel('# of Occurrences', fontsize=12)\n",
    "plt.xlabel('# of tags ', fontsize=12)\n",
    "\n",
    "#adding the text labels\n",
    "rects = ax.patches\n",
    "labels = x.values\n",
    "for rect, label in zip(rects, labels):\n",
    "    height = rect.get_height()\n",
    "    ax.text(rect.get_x() + rect.get_width()/2, height + 5, label, ha='center', va='bottom')\n",
    "\n",
    "plt.show()"
   ]
  },
  {
   "cell_type": "markdown",
   "metadata": {},
   "source": [
    "Ще се опитаме да намерим някаква корелация между различните лейбъли, които търсим."
   ]
  },
  {
   "cell_type": "code",
   "execution_count": 16,
   "metadata": {},
   "outputs": [
    {
     "data": {
      "text/plain": [
       "<matplotlib.axes._subplots.AxesSubplot at 0x1a336110>"
      ]
     },
     "execution_count": 16,
     "metadata": {},
     "output_type": "execute_result"
    },
    {
     "data": {
      "image/png": "[encoded data removed]",
      "text/plain": [
       "<Figure size 504x504 with 2 Axes>"
      ]
     },
     "metadata": {
      "needs_background": "light"
     },
     "output_type": "display_data"
    }
   ],
   "source": [
    "data = train[label_cols]\n",
    "colormap = plt.cm.plasma\n",
    "plt.figure(figsize=(7,7))\n",
    "plt.title('Correlation of features & targets',y=1.05,size=14)\n",
    "sns.heatmap(data.astype(float).corr(),linewidths=0.1,vmax=1.0,square=True,cmap=colormap,\n",
    "           linecolor='white',annot=True)"
   ]
  },
  {
   "cell_type": "markdown",
   "metadata": {},
   "source": [
    "Наистина - изглежда, че има високи корелации между отделни лейбъли. Най-високата корелация е при insult-obscene - 0.74, след това са obscene-toxic и insult-toxic. Ще се опитаме да се възползваме от тези корелации в бъдещ модел."
   ]
  },
  {
   "cell_type": "markdown",
   "metadata": {},
   "source": [
    "### Идеи за feature-и\n",
    "-  CountVectorizer, TfidfVectorizer, HashingVectorizer\n",
    "-  Дължина на коментара - мисля си, че ядосаните хора ще пишат по-къси коментари\n",
    "-  Брой думи - по същата логика мисля, че токсичните коментари трябва да съдържат по-малко думи\n",
    "-  Колко главни букви има в коментара - често токсичните коментари са all caps\n",
    "-  Каква част от коментара е главни букви - същата логика като горното\n",
    "-  Колко удивителни знаци има - ядосаните хора вероятно слагат доста удивителни\n",
    "-  Брой пунктуационни знаци - вероятно когато си ядосан не би спазвал пунктуационните правила"
   ]
  },
  {
   "cell_type": "markdown",
   "metadata": {},
   "source": [
    "### Splitting the train dataset"
   ]
  },
  {
   "cell_type": "code",
   "execution_count": 17,
   "metadata": {},
   "outputs": [
    {
     "name": "stdout",
     "output_type": "stream",
     "text": [
      "x_train - (111699,)\n",
      "x_test  - (47872,)\n",
      "y_train - (111699, 6)\n",
      "y_test  - (47872, 6)\n"
     ]
    }
   ],
   "source": [
    "from sklearn.model_selection import train_test_split\n",
    "\n",
    "train_comment = train['comment_text'];\n",
    "train_labels = train[['toxic', 'severe_toxic', 'obscene', 'threat', 'insult', 'identity_hate']];\n",
    "\n",
    "x_train, x_test, y_train, y_test = train_test_split(train_comment,\n",
    "                                                    train_labels, \n",
    "                                                    test_size=0.3, \n",
    "                                                    random_state=4330)\n",
    "\n",
    "print('x_train - {}'.format(x_train.shape));\n",
    "print('x_test  - {}'.format(x_test.shape));\n",
    "print('y_train - {}'.format(y_train.shape));\n",
    "print('y_test  - {}'.format(y_test.shape));"
   ]
  },
  {
   "cell_type": "markdown",
   "metadata": {},
   "source": [
    "### Vectorize the data"
   ]
  },
  {
   "cell_type": "code",
   "execution_count": 18,
   "metadata": {},
   "outputs": [
    {
     "data": {
      "text/plain": [
       "CountVectorizer(analyzer='word', binary=False, decode_error='strict',\n",
       "        dtype=<class 'numpy.int64'>, encoding='utf-8', input='content',\n",
       "        lowercase=True, max_df=1.0, max_features=5000, min_df=1,\n",
       "        ngram_range=(1, 1), preprocessor=None, stop_words=None,\n",
       "        strip_accents=None, token_pattern='(?u)\\\\b\\\\w\\\\w+\\\\b',\n",
       "        tokenizer=None, vocabulary=None)"
      ]
     },
     "execution_count": 18,
     "metadata": {},
     "output_type": "execute_result"
    }
   ],
   "source": [
    "from sklearn.feature_extraction.text import CountVectorizer, TfidfVectorizer, HashingVectorizer\n",
    "vect = CountVectorizer(max_features = 5000)\n",
    "vect"
   ]
  },
  {
   "cell_type": "code",
   "execution_count": 19,
   "metadata": {},
   "outputs": [
    {
     "data": {
      "text/plain": [
       "<111699x5000 sparse matrix of type '<class 'numpy.int64'>'\n",
       "\twith 4255008 stored elements in Compressed Sparse Row format>"
      ]
     },
     "execution_count": 19,
     "metadata": {},
     "output_type": "execute_result"
    }
   ],
   "source": [
    "X_dtm = vect.fit_transform(x_train)\n",
    "X_dtm"
   ]
  },
  {
   "cell_type": "code",
   "execution_count": 20,
   "metadata": {},
   "outputs": [
    {
     "data": {
      "text/plain": [
       "<47872x5000 sparse matrix of type '<class 'numpy.int64'>'\n",
       "\twith 1821083 stored elements in Compressed Sparse Row format>"
      ]
     },
     "execution_count": 20,
     "metadata": {},
     "output_type": "execute_result"
    }
   ],
   "source": [
    "test_X_dtm = vect.transform(x_test)\n",
    "test_X_dtm"
   ]
  },
  {
   "cell_type": "markdown",
   "metadata": {},
   "source": [
    "### Baseline model\n",
    "#### Solving a multi-label classification problem\n",
    "Ще решим класификация за няколко label-а като я разделим на отделни еднокласови класификации. В нашия случай ще разделим проблема на 6 класификации за всеки label. Първо ще ги разгледаме като напълно независими проблеми(Binary Relevance)."
   ]
  },
  {
   "cell_type": "code",
   "execution_count": 21,
   "metadata": {},
   "outputs": [],
   "source": [
    "from sklearn.linear_model import LogisticRegression\n",
    "from sklearn.metrics import accuracy_score\n",
    "logreg = LogisticRegression(C = 12.0)\n",
    "\n",
    "def binary_relevance():\n",
    "    for label in label_cols:\n",
    "        print('... Processing {}'.format(label))\n",
    "        # train the model using X_dtm & y\n",
    "        \n",
    "        logreg.fit(X_dtm, y_train[label])\n",
    "        # compute the training accuracy\n",
    "        y_pred_X = logreg.predict(test_X_dtm)\n",
    "        print('Training accuracy is {}'.format(accuracy_score(y_test[label], y_pred_X)))"
   ]
  },
  {
   "cell_type": "code",
   "execution_count": 22,
   "metadata": {},
   "outputs": [
    {
     "name": "stdout",
     "output_type": "stream",
     "text": [
      "Testing with CountVectorizer\n",
      "... Processing toxic\n"
     ]
    },
    {
     "name": "stderr",
     "output_type": "stream",
     "text": [
      "c:\\users\\aleksandar stanev\\appdata\\local\\programs\\python\\python37-32\\lib\\site-packages\\sklearn\\linear_model\\logistic.py:432: FutureWarning: Default solver will be changed to 'lbfgs' in 0.22. Specify a solver to silence this warning.\n",
      "  FutureWarning)\n",
      "c:\\users\\aleksandar stanev\\appdata\\local\\programs\\python\\python37-32\\lib\\site-packages\\sklearn\\svm\\base.py:922: ConvergenceWarning: Liblinear failed to converge, increase the number of iterations.\n",
      "  \"the number of iterations.\", ConvergenceWarning)\n"
     ]
    },
    {
     "name": "stdout",
     "output_type": "stream",
     "text": [
      "Training accuracy is 0.9467120655080213\n",
      "... Processing severe_toxic\n",
      "Training accuracy is 0.9907461564171123\n",
      "... Processing obscene\n",
      "Training accuracy is 0.9707762366310161\n",
      "... Processing threat\n",
      "Training accuracy is 0.9971382018716578\n",
      "... Processing insult\n",
      "Training accuracy is 0.9584099264705882\n",
      "... Processing identity_hate\n",
      "Training accuracy is 0.9904745989304813\n"
     ]
    }
   ],
   "source": [
    "print(\"Testing with CountVectorizer\")\n",
    "\n",
    "binary_relevance()"
   ]
  },
  {
   "cell_type": "markdown",
   "metadata": {},
   "source": [
    "Виждаме че baseline модела с CountVectorizer получава прилични резултати. Можем да пробваме с TfidfVectorizer, HashingVectorizer и да си поиграем с параметрите им."
   ]
  },
  {
   "cell_type": "markdown",
   "metadata": {},
   "source": [
    "Да видим с TfidftVectorizer и HashingVectorizer."
   ]
  },
  {
   "cell_type": "code",
   "execution_count": 23,
   "metadata": {
    "scrolled": true
   },
   "outputs": [
    {
     "name": "stdout",
     "output_type": "stream",
     "text": [
      "Testing with TfidfVectorizer\n",
      "... Processing toxic\n",
      "Training accuracy is 0.9582845922459893\n",
      "... Processing severe_toxic\n",
      "Training accuracy is 0.9904537098930482\n",
      "... Processing obscene\n",
      "Training accuracy is 0.9784425133689839\n",
      "... Processing threat\n",
      "Training accuracy is 0.9977439839572193\n",
      "... Processing insult\n",
      "Training accuracy is 0.9705673462566845\n",
      "... Processing identity_hate\n",
      "Training accuracy is 0.9917488302139037\n"
     ]
    }
   ],
   "source": [
    "print(\"Testing with TfidfVectorizer\")\n",
    "\n",
    "vect = TfidfVectorizer(max_features = 5000)\n",
    "X_dtm = vect.fit_transform(x_train)\n",
    "test_X_dtm = vect.transform(x_test)\n",
    "\n",
    "binary_relevance()"
   ]
  },
  {
   "cell_type": "code",
   "execution_count": 24,
   "metadata": {},
   "outputs": [
    {
     "name": "stdout",
     "output_type": "stream",
     "text": [
      "Testing with HashingVectorizer\n",
      "... Processing toxic\n",
      "Training accuracy is 0.9603317179144385\n",
      "... Processing severe_toxic\n",
      "Training accuracy is 0.9906208221925134\n",
      "... Processing obscene\n",
      "Training accuracy is 0.9787767379679144\n",
      "... Processing threat\n",
      "Training accuracy is 0.9976813168449198\n",
      "... Processing insult\n",
      "Training accuracy is 0.9716535762032086\n",
      "... Processing identity_hate\n",
      "Training accuracy is 0.9917070521390374\n"
     ]
    }
   ],
   "source": [
    "print(\"Testing with HashingVectorizer\")\n",
    "\n",
    "vect = HashingVectorizer()\n",
    "X_dtm = vect.fit_transform(x_train)\n",
    "test_X_dtm = vect.transform(x_test)\n",
    "\n",
    "binary_relevance()"
   ]
  },
  {
   "cell_type": "markdown",
   "metadata": {},
   "source": [
    "#### Classifier Chains"
   ]
  },
  {
   "cell_type": "markdown",
   "metadata": {},
   "source": [
    "С неограничен брой итерации получаваме най-добри резултати с TfidfVectorizer, затова ще се опитаме да оптимизираме него. Първото, което ще направим е да не разглеждаме 6те класификации като различни проблеми, а да търсим някакви корелации. Първия фийчър ще бъде трениран само с X, а всеки следващ ще бъде трениран с X плюс вече предположените класификации. По този начин ще можем да се възползваме от корелации между различните лейбъли(Classifier Chains)."
   ]
  },
  {
   "cell_type": "code",
   "execution_count": 25,
   "metadata": {},
   "outputs": [],
   "source": [
    "from scipy.sparse import csr_matrix, hstack\n",
    "\n",
    "def add_feature(X, feature_to_add):\n",
    "    return hstack([X, csr_matrix(feature_to_add).T], 'csr')\n",
    "\n",
    "def classifier_chains(X_dtm, test_X_dtm):\n",
    "    avr = 0;\n",
    "    for label in label_cols:\n",
    "        print('... Processing {}'.format(label))\n",
    "        # train the model using X_dtm & y\n",
    "        logreg.fit(X_dtm,y_train[label])\n",
    "        # compute the training accuracy\n",
    "        y_pred_X = logreg.predict(test_X_dtm)\n",
    "        accuracy = accuracy_score(y_test[label],y_pred_X);\n",
    "        print('Training Accuracy is {}'.format(accuracy));\n",
    "        avr += accuracy;\n",
    "        # chain current label to X_dtm\n",
    "        X_dtm = add_feature(X_dtm, y_train[label])\n",
    "        test_X_dtm = add_feature(test_X_dtm, y_test[label])\n",
    "        print('Shape of X_dtm is now {}'.format(X_dtm.shape))\n",
    "    return avr / len(label_cols);"
   ]
  },
  {
   "cell_type": "code",
   "execution_count": 26,
   "metadata": {},
   "outputs": [
    {
     "name": "stdout",
     "output_type": "stream",
     "text": [
      "... Processing toxic\n",
      "Training Accuracy is 0.9582845922459893\n",
      "Shape of X_dtm is now (111699, 5001)\n",
      "... Processing severe_toxic\n",
      "Training Accuracy is 0.9904119318181818\n",
      "Shape of X_dtm is now (111699, 5002)\n",
      "... Processing obscene\n",
      "Training Accuracy is 0.9782962901069518\n",
      "Shape of X_dtm is now (111699, 5003)\n",
      "... Processing threat\n",
      "Training Accuracy is 0.9978066510695187\n",
      "Shape of X_dtm is now (111699, 5004)\n",
      "... Processing insult\n",
      "Training Accuracy is 0.975622493315508\n",
      "Shape of X_dtm is now (111699, 5005)\n",
      "... Processing identity_hate\n",
      "Training Accuracy is 0.992730614973262\n",
      "Shape of X_dtm is now (111699, 5006)\n",
      "Average is 0.9821920955882352\n"
     ]
    }
   ],
   "source": [
    "vect = TfidfVectorizer(max_features = 5000)\n",
    "X_dtm = vect.fit_transform(x_train)\n",
    "test_X_dtm = vect.transform(x_test)\n",
    "\n",
    "avr = classifier_chains(X_dtm, test_X_dtm)\n",
    "print('Average is {}'.format(avr));"
   ]
  },
  {
   "cell_type": "markdown",
   "metadata": {},
   "source": [
    "Със Classifier Chains малко подобрихме резултатите."
   ]
  },
  {
   "cell_type": "markdown",
   "metadata": {},
   "source": [
    "#### Stemming"
   ]
  },
  {
   "cell_type": "markdown",
   "metadata": {},
   "source": [
    "Да пробваме и stemming."
   ]
  },
  {
   "cell_type": "code",
   "execution_count": 27,
   "metadata": {
    "scrolled": false
   },
   "outputs": [
    {
     "data": {
      "text/plain": [
       "32172     corrupt archiv link It appear that most of the...\n",
       "128348    I don't give a fli fuck. block me I don't care...\n",
       "100126    \" request edit could someon edit the section \"...\n",
       "44808     thi articl ha signific tone issu thi articl is...\n",
       "124432    counterexampl I think it would be interest to ...\n",
       "Name: comment_text, dtype: object"
      ]
     },
     "execution_count": 27,
     "metadata": {},
     "output_type": "execute_result"
    }
   ],
   "source": [
    "import nltk\n",
    "from nltk.stem import WordNetLemmatizer\n",
    "from nltk.stem import PorterStemmer\n",
    "\n",
    "stem = PorterStemmer()\n",
    "\n",
    "def stemString(t):\n",
    "    try:\n",
    "        return \" \".join([stem.stem(w) for w in t.split()]);\n",
    "    except RecursionError:\n",
    "        return t;\n",
    "\n",
    "x_train = x_train.apply(stemString)\n",
    "x_test = x_test.apply(stemString)\n",
    "\n",
    "x_train.head(5)"
   ]
  },
  {
   "cell_type": "code",
   "execution_count": 35,
   "metadata": {
    "scrolled": true
   },
   "outputs": [
    {
     "name": "stdout",
     "output_type": "stream",
     "text": [
      "... Processing toxic\n",
      "Training Accuracy is 0.9594126002673797\n",
      "Shape of X_dtm is now (111699, 5001)\n",
      "... Processing severe_toxic\n",
      "Training Accuracy is 0.9901194852941176\n",
      "Shape of X_dtm is now (111699, 5002)\n",
      "... Processing obscene\n",
      "Training Accuracy is 0.9784007352941176\n",
      "Shape of X_dtm is now (111699, 5003)\n",
      "... Processing threat\n",
      "Training Accuracy is 0.9977230949197861\n",
      "Shape of X_dtm is now (111699, 5004)\n",
      "... Processing insult\n",
      "Training Accuracy is 0.9759358288770054\n",
      "Shape of X_dtm is now (111699, 5005)\n",
      "... Processing identity_hate\n",
      "Training Accuracy is 0.9926679478609626\n",
      "Shape of X_dtm is now (111699, 5006)\n",
      "Average is 0.9823766154188949\n"
     ]
    }
   ],
   "source": [
    "vect = TfidfVectorizer(max_features = 5000)\n",
    "X_dtm = vect.fit_transform(x_train)\n",
    "test_X_dtm = vect.transform(x_test)\n",
    "\n",
    "avr = classifier_chains(X_dtm, test_X_dtm)\n",
    "print('Average is {}'.format(avr));"
   ]
  },
  {
   "cell_type": "markdown",
   "metadata": {},
   "source": [
    "Като че ли stemming-а леко подобрява резултатите ни. Ще го използваме."
   ]
  },
  {
   "cell_type": "markdown",
   "metadata": {},
   "source": [
    "Ще пробваме и с различните ръчни фийчъри, които споменахме по-горе."
   ]
  },
  {
   "cell_type": "code",
   "execution_count": 36,
   "metadata": {},
   "outputs": [
    {
     "name": "stdout",
     "output_type": "stream",
     "text": [
      "        total_length  capitals  caps_vs_length  num_exclamation_marks  \\\n",
      "32172            244         5             1.0                      0   \n",
      "128348            88         3             1.0                      0   \n",
      "100126           302         3             1.0                      0   \n",
      "44808            163         0             1.0                      0   \n",
      "124432           169         1             1.0                      0   \n",
      "\n",
      "        num_punctuation  num_words  \n",
      "32172                 6         49  \n",
      "128348                3         18  \n",
      "100126                8         58  \n",
      "44808                 3         27  \n",
      "124432                2         31  \n"
     ]
    }
   ],
   "source": [
    "train_features = pd.DataFrame();\n",
    "test_features = pd.DataFrame();\n",
    "\n",
    "train_features['total_length'] = x_train.apply(len)\n",
    "train_features['capitals'] = x_train.apply(lambda comment: sum(1 for c in comment if c.isupper()))\n",
    "train_features['caps_vs_length'] = train_features['total_length'] / train_features['total_length']\n",
    "train_features['num_exclamation_marks'] = x_train.apply(lambda comment: comment.count('!'))\n",
    "train_features['num_punctuation'] = x_train.apply(lambda comment: sum(comment.count(w) for w in '.,;:'))\n",
    "train_features['num_words'] = x_train.apply(lambda comment: len(comment.split()))\n",
    "\n",
    "test_features['total_length'] = x_test.apply(len)\n",
    "test_features['capitals'] = x_test.apply(lambda comment: sum(1 for c in comment if c.isupper()))\n",
    "test_features['caps_vs_length'] = test_features['capitals'] / test_features['total_length']\n",
    "test_features['num_exclamation_marks'] = x_test.apply(lambda comment: comment.count('!'))\n",
    "test_features['num_punctuation'] = x_test.apply(lambda comment: sum(comment.count(w) for w in '.,;:'))\n",
    "test_features['num_words'] = x_test.apply(lambda comment: len(comment.split()))\n",
    "\n",
    "print(train_features.head(5))"
   ]
  },
  {
   "cell_type": "markdown",
   "metadata": {},
   "source": [
    "Ще опитаме с всяка от тези колони и ще видим кои подобряват резултата ни."
   ]
  },
  {
   "cell_type": "code",
   "execution_count": 37,
   "metadata": {},
   "outputs": [
    {
     "name": "stdout",
     "output_type": "stream",
     "text": [
      "Trying with total_length\n",
      "... Processing toxic\n",
      "Training Accuracy is 0.9592037098930482\n",
      "Shape of X_dtm is now (111699, 5002)\n",
      "... Processing severe_toxic\n",
      "Training Accuracy is 0.9902448195187166\n",
      "Shape of X_dtm is now (111699, 5003)\n",
      "... Processing obscene\n",
      "Training Accuracy is 0.9797794117647058\n",
      "Shape of X_dtm is now (111699, 5004)\n",
      "... Processing threat\n",
      "Training Accuracy is 0.9977439839572193\n",
      "Shape of X_dtm is now (111699, 5005)\n",
      "... Processing insult\n",
      "Training Accuracy is 0.9772936163101604\n",
      "Shape of X_dtm is now (111699, 5006)\n",
      "... Processing identity_hate\n",
      "Training Accuracy is 0.9927515040106952\n",
      "Shape of X_dtm is now (111699, 5007)\n",
      "Average is 0.9828361742424243\n",
      "\n",
      "\n",
      "Trying with capitals\n",
      "... Processing toxic\n",
      "Training Accuracy is 0.9593917112299465\n",
      "Shape of X_dtm is now (111699, 5002)\n",
      "... Processing severe_toxic\n",
      "Training Accuracy is 0.9901612633689839\n",
      "Shape of X_dtm is now (111699, 5003)\n",
      "... Processing obscene\n",
      "Training Accuracy is 0.9783798462566845\n",
      "Shape of X_dtm is now (111699, 5004)\n",
      "... Processing threat\n",
      "Training Accuracy is 0.9977230949197861\n",
      "Shape of X_dtm is now (111699, 5005)\n",
      "... Processing insult\n",
      "Training Accuracy is 0.9758522727272727\n",
      "Shape of X_dtm is now (111699, 5006)\n",
      "... Processing identity_hate\n",
      "Training Accuracy is 0.9926679478609626\n",
      "Shape of X_dtm is now (111699, 5007)\n",
      "Average is 0.9823626893939394\n",
      "\n",
      "\n",
      "Trying with caps_vs_length\n",
      "... Processing toxic\n",
      "Training Accuracy is 0.9349306483957219\n",
      "Shape of X_dtm is now (111699, 5002)\n",
      "... Processing severe_toxic\n",
      "Training Accuracy is 0.9255514705882353\n",
      "Shape of X_dtm is now (111699, 5003)\n",
      "... Processing obscene\n",
      "Training Accuracy is 0.9542530080213903\n",
      "Shape of X_dtm is now (111699, 5004)\n",
      "... Processing threat\n",
      "Training Accuracy is 0.9752256016042781\n",
      "Shape of X_dtm is now (111699, 5005)\n",
      "... Processing insult\n",
      "Training Accuracy is 0.9541903409090909\n",
      "Shape of X_dtm is now (111699, 5006)\n",
      "... Processing identity_hate\n",
      "Training Accuracy is 0.9571983622994652\n",
      "Shape of X_dtm is now (111699, 5007)\n",
      "Average is 0.9502249053030303\n",
      "\n",
      "\n",
      "Trying with num_exclamation_marks\n",
      "... Processing toxic\n",
      "Training Accuracy is 0.9593499331550802\n",
      "Shape of X_dtm is now (111699, 5002)\n",
      "... Processing severe_toxic\n",
      "Training Accuracy is 0.9901821524064172\n",
      "Shape of X_dtm is now (111699, 5003)\n",
      "... Processing obscene\n",
      "Training Accuracy is 0.9784425133689839\n",
      "Shape of X_dtm is now (111699, 5004)\n",
      "... Processing threat\n",
      "Training Accuracy is 0.9977230949197861\n",
      "Shape of X_dtm is now (111699, 5005)\n",
      "... Processing insult\n",
      "Training Accuracy is 0.9758731617647058\n",
      "Shape of X_dtm is now (111699, 5006)\n",
      "... Processing identity_hate\n",
      "Training Accuracy is 0.9926679478609626\n",
      "Shape of X_dtm is now (111699, 5007)\n",
      "Average is 0.982373133912656\n",
      "\n",
      "\n",
      "Trying with num_punctuation\n",
      "... Processing toxic\n",
      "Training Accuracy is 0.9593290441176471\n",
      "Shape of X_dtm is now (111699, 5002)\n",
      "... Processing severe_toxic\n",
      "Training Accuracy is 0.9901612633689839\n",
      "Shape of X_dtm is now (111699, 5003)\n",
      "... Processing obscene\n",
      "Training Accuracy is 0.9783589572192514\n",
      "Shape of X_dtm is now (111699, 5004)\n",
      "... Processing threat\n",
      "Training Accuracy is 0.9977022058823529\n",
      "Shape of X_dtm is now (111699, 5005)\n",
      "... Processing insult\n",
      "Training Accuracy is 0.9759149398395722\n",
      "Shape of X_dtm is now (111699, 5006)\n",
      "... Processing identity_hate\n",
      "Training Accuracy is 0.9926470588235294\n",
      "Shape of X_dtm is now (111699, 5007)\n",
      "Average is 0.9823522448752229\n",
      "\n",
      "\n",
      "Trying with num_words\n",
      "... Processing toxic\n",
      "Training Accuracy is 0.9594126002673797\n",
      "Shape of X_dtm is now (111699, 5002)\n",
      "... Processing severe_toxic\n",
      "Training Accuracy is 0.9903701537433155\n",
      "Shape of X_dtm is now (111699, 5003)\n",
      "... Processing obscene\n",
      "Training Accuracy is 0.9783380681818182\n",
      "Shape of X_dtm is now (111699, 5004)\n",
      "... Processing threat\n",
      "Training Accuracy is 0.9977230949197861\n",
      "Shape of X_dtm is now (111699, 5005)\n",
      "... Processing insult\n",
      "Training Accuracy is 0.9762073863636364\n",
      "Shape of X_dtm is now (111699, 5006)\n",
      "... Processing identity_hate\n",
      "Training Accuracy is 0.9927097259358288\n",
      "Shape of X_dtm is now (111699, 5007)\n",
      "Average is 0.9824601715686274\n",
      "\n",
      "\n"
     ]
    }
   ],
   "source": [
    "X_dtm = vect.fit_transform(x_train)\n",
    "test_X_dtm = vect.transform(x_test)\n",
    "\n",
    "for col in train_features:\n",
    "    print(\"Trying with \" +  col);\n",
    "    X_dtm_copy = X_dtm.copy();\n",
    "    test_X_dtm_copy = test_X_dtm.copy();\n",
    "    \n",
    "    X_dtm_copy = add_feature(X_dtm_copy, train_features[col]);\n",
    "    test_X_dtm_copy = add_feature(test_X_dtm_copy, test_features[col]);\n",
    "    \n",
    "    avr = classifier_chains(X_dtm_copy, test_X_dtm_copy);\n",
    "    print('Average is {}'.format(avr));\n",
    "    \n",
    "    print(\"\\n\");"
   ]
  },
  {
   "cell_type": "markdown",
   "metadata": {},
   "source": [
    "Колоните, които подобряват резултата ни са - total_length, num_exclamation_marks, num_words. Ще използваме тях в финалния модел."
   ]
  },
  {
   "cell_type": "markdown",
   "metadata": {},
   "source": [
    "### Финалния модел ще ни бъде:\n",
    "-  Tfidf Vectorizer\n",
    "-  със stemming\n",
    "-  с няколко допълнителни ръчни фийчъри"
   ]
  },
  {
   "cell_type": "code",
   "execution_count": 41,
   "metadata": {},
   "outputs": [
    {
     "name": "stdout",
     "output_type": "stream",
     "text": [
      "... Processing toxic\n",
      "Training Accuracy is 0.9593917112299465\n",
      "Shape of X_dtm is now (111699, 5003)\n",
      "... Processing severe_toxic\n",
      "Training Accuracy is 0.9902657085561497\n",
      "Shape of X_dtm is now (111699, 5004)\n",
      "... Processing obscene\n",
      "Training Accuracy is 0.9782962901069518\n",
      "Shape of X_dtm is now (111699, 5005)\n",
      "... Processing threat\n",
      "Training Accuracy is 0.9977439839572193\n",
      "Shape of X_dtm is now (111699, 5006)\n",
      "... Processing insult\n",
      "Training Accuracy is 0.9757478275401069\n",
      "Shape of X_dtm is now (111699, 5007)\n",
      "... Processing identity_hate\n",
      "Training Accuracy is 0.9926888368983957\n",
      "Shape of X_dtm is now (111699, 5008)\n",
      "Average is 0.9823557263814617\n"
     ]
    }
   ],
   "source": [
    "X_dtm = add_feature(X_dtm_copy, train_features['total_length']);\n",
    "X_dtm = add_feature(X_dtm_copy, train_features['num_exclamation_marks']);\n",
    "X_dtm = add_feature(X_dtm_copy, train_features['num_words']);\n",
    "\n",
    "test_X_dtm = add_feature(test_X_dtm_copy, test_features['total_length']);\n",
    "test_X_dtm = add_feature(test_X_dtm_copy, test_features['num_exclamation_marks']);\n",
    "test_X_dtm = add_feature(test_X_dtm_copy, test_features['num_words']);\n",
    "\n",
    "avr = classifier_chains(X_dtm, test_X_dtm);\n",
    "print('Average is {}'.format(avr));"
   ]
  }
 ],
 "metadata": {
  "kernelspec": {
   "display_name": "Python 3",
   "language": "python",
   "name": "python3"
  },
  "language_info": {
   "codemirror_mode": {
    "name": "ipython",
    "version": 3
   },
   "file_extension": ".py",
   "mimetype": "text/x-python",
   "name": "python",
   "nbconvert_exporter": "python",
   "pygments_lexer": "ipython3",
   "version": "3.7.1"
  }
 },
 "nbformat": 4,
 "nbformat_minor": 2
}
